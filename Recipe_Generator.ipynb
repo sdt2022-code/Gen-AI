{
  "nbformat": 4,
  "nbformat_minor": 0,
  "metadata": {
    "colab": {
      "provenance": []
    },
    "kernelspec": {
      "name": "python3",
      "display_name": "Python 3"
    },
    "language_info": {
      "name": "python"
    }
  },
  "cells": [
    {
      "cell_type": "code",
      "source": [
        "!pip install -r /content/drive/MyDrive/Environments/requirements.txt -q\n",
        "!pip install openai==0.28 -q\n"
      ],
      "metadata": {
        "colab": {
          "base_uri": "https://localhost:8080/"
        },
        "id": "6s0CAVd_xwl8",
        "outputId": "01fcd5dc-ad3c-4a44-a4ee-c674ca788d06"
      },
      "execution_count": null,
      "outputs": [
        {
          "output_type": "stream",
          "name": "stdout",
          "text": [
            "\u001b[2K     \u001b[90m━━━━━━━━━━━━━━━━━━━━━━━━━━━━━━━━━━━━━━━━\u001b[0m \u001b[32m798.0/798.0 kB\u001b[0m \u001b[31m4.4 MB/s\u001b[0m eta \u001b[36m0:00:00\u001b[0m\n",
            "\u001b[2K     \u001b[90m━━━━━━━━━━━━━━━━━━━━━━━━━━━━━━━━━━━━━━━━\u001b[0m \u001b[32m179.4/179.4 kB\u001b[0m \u001b[31m14.5 MB/s\u001b[0m eta \u001b[36m0:00:00\u001b[0m\n",
            "\u001b[2K     \u001b[90m━━━━━━━━━━━━━━━━━━━━━━━━━━━━━━━━━━━━━━━━\u001b[0m \u001b[32m2.0/2.0 MB\u001b[0m \u001b[31m27.3 MB/s\u001b[0m eta \u001b[36m0:00:00\u001b[0m\n",
            "\u001b[2K     \u001b[90m━━━━━━━━━━━━━━━━━━━━━━━━━━━━━━━━━━━━━━━━\u001b[0m \u001b[32m1.5/1.5 MB\u001b[0m \u001b[31m59.6 MB/s\u001b[0m eta \u001b[36m0:00:00\u001b[0m\n",
            "\u001b[2K     \u001b[90m━━━━━━━━━━━━━━━━━━━━━━━━━━━━━━━━━━━━━━━━\u001b[0m \u001b[32m214.3/214.3 kB\u001b[0m \u001b[31m20.0 MB/s\u001b[0m eta \u001b[36m0:00:00\u001b[0m\n",
            "\u001b[2K     \u001b[90m━━━━━━━━━━━━━━━━━━━━━━━━━━━━━━━━━━━━━━━━\u001b[0m \u001b[32m48.2/48.2 kB\u001b[0m \u001b[31m2.9 MB/s\u001b[0m eta \u001b[36m0:00:00\u001b[0m\n",
            "\u001b[2K     \u001b[90m━━━━━━━━━━━━━━━━━━━━━━━━━━━━━━━━━━━━━━━━\u001b[0m \u001b[32m62.5/62.5 kB\u001b[0m \u001b[31m4.9 MB/s\u001b[0m eta \u001b[36m0:00:00\u001b[0m\n",
            "\u001b[2K     \u001b[90m━━━━━━━━━━━━━━━━━━━━━━━━━━━━━━━━━━━━━━━━\u001b[0m \u001b[32m300.4/300.4 kB\u001b[0m \u001b[31m31.7 MB/s\u001b[0m eta \u001b[36m0:00:00\u001b[0m\n",
            "\u001b[2K     \u001b[90m━━━━━━━━━━━━━━━━━━━━━━━━━━━━━━━━━━━━━━━━\u001b[0m \u001b[32m49.4/49.4 kB\u001b[0m \u001b[31m3.3 MB/s\u001b[0m eta \u001b[36m0:00:00\u001b[0m\n",
            "\u001b[?25h\u001b[31mERROR: pip's dependency resolver does not currently take into account all the packages that are installed. This behaviour is the source of the following dependency conflicts.\n",
            "llmx 0.0.15a0 requires cohere, which is not installed.\u001b[0m\u001b[31m\n",
            "\u001b[0m"
          ]
        }
      ]
    },
    {
      "cell_type": "code",
      "execution_count": null,
      "metadata": {
        "colab": {
          "base_uri": "https://localhost:8080/"
        },
        "id": "GJJ_6NimKGIY",
        "outputId": "016db9b7-f690-4e3d-e1c9-203cfe9ca58b"
      },
      "outputs": [
        {
          "output_type": "execute_result",
          "data": {
            "text/plain": [
              "True"
            ]
          },
          "metadata": {},
          "execution_count": 4
        }
      ],
      "source": [
        "import os\n",
        "import openai\n",
        "import pandas as pd\n",
        "from dotenv import load_dotenv , find_dotenv\n",
        "load_dotenv('/content/drive/MyDrive/Environments/.env' , override = True)"
      ]
    },
    {
      "cell_type": "code",
      "source": [
        "openai.api_key = os.getenv('OPENAI_API_KEY')\n"
      ],
      "metadata": {
        "id": "XZbn37W9x-Ha"
      },
      "execution_count": null,
      "outputs": []
    },
    {
      "cell_type": "code",
      "source": [
        "def create_dish_prompt(list_of_ingredients):\n",
        "  prompt = f\"Create a detialed recipe based only on the following ingredients: {', '.join(list_of_ingredients)}\\n\"\\\n",
        "  f\"Additionally, assign a title starting with 'Recipe Title: ' to this recipe\"\n",
        "\n",
        "  return prompt"
      ],
      "metadata": {
        "id": "IlbaALO2yJjs"
      },
      "execution_count": null,
      "outputs": []
    },
    {
      "cell_type": "code",
      "source": [
        "#for ex list can be\n",
        "i = ['eggs' , 'bacon', 'bread']"
      ],
      "metadata": {
        "id": "Iar975oAyQ4f"
      },
      "execution_count": null,
      "outputs": []
    },
    {
      "cell_type": "code",
      "source": [
        "recipe = create_dish_prompt(i)"
      ],
      "metadata": {
        "id": "-swpDUmdy2gN"
      },
      "execution_count": null,
      "outputs": []
    },
    {
      "cell_type": "code",
      "source": [
        "response = openai.Completion.create(engine = 'text-davinci-003',\n",
        "                                    prompt = recipe,\n",
        "                                    max_tokens = 512,\n",
        "                                    temperature = 0.6)"
      ],
      "metadata": {
        "id": "g3M2TJ51y5Tt"
      },
      "execution_count": null,
      "outputs": []
    },
    {
      "cell_type": "code",
      "source": [
        "ans = response['choices'][0]['text']\n",
        "print(ans)"
      ],
      "metadata": {
        "colab": {
          "base_uri": "https://localhost:8080/"
        },
        "id": "n6i6mis6zH1J",
        "outputId": "177edcef-47eb-4b0f-e918-608bf89e0f1d"
      },
      "execution_count": null,
      "outputs": [
        {
          "output_type": "stream",
          "name": "stdout",
          "text": [
            "\n",
            "\n",
            "Recipe Title: Bacon and Egg Sandwich\n",
            "\n",
            "Ingredients: \n",
            "- 3 eggs\n",
            "- 6 strips of bacon\n",
            "- 2 slices of bread\n",
            "\n",
            "Instructions:\n",
            "1. Preheat a skillet over medium heat.\n",
            "2. Add the bacon to the skillet and cook until crispy, about 6 minutes.\n",
            "3. Remove the bacon from the skillet and set aside.\n",
            "4. Crack the eggs into the skillet and cook until the whites are set and the yolk is cooked to your desired doneness, about 4 minutes.\n",
            "5. Toast the bread in a toaster or in a skillet over medium heat.\n",
            "6. Place the bacon on one slice of toast.\n",
            "7. Carefully place the eggs on top of the bacon.\n",
            "8. Top with the other slice of toast.\n",
            "9. Slice in half and serve.\n"
          ]
        }
      ]
    },
    {
      "cell_type": "code",
      "source": [
        "import re"
      ],
      "metadata": {
        "id": "cdtlkcbGzNDt"
      },
      "execution_count": null,
      "outputs": []
    },
    {
      "cell_type": "code",
      "source": [
        "ans.split('Recipe Title: ')"
      ],
      "metadata": {
        "colab": {
          "base_uri": "https://localhost:8080/"
        },
        "id": "ayxyFnxKzdKE",
        "outputId": "2f6dd56c-da13-4ec3-d02d-aad64f61c07f"
      },
      "execution_count": null,
      "outputs": [
        {
          "output_type": "execute_result",
          "data": {
            "text/plain": [
              "['\\n\\n',\n",
              " 'Bacon and Egg Sandwich\\n\\nIngredients: \\n- 3 eggs\\n- 6 strips of bacon\\n- 2 slices of bread\\n\\nInstructions:\\n1. Preheat a skillet over medium heat.\\n2. Add the bacon to the skillet and cook until crispy, about 6 minutes.\\n3. Remove the bacon from the skillet and set aside.\\n4. Crack the eggs into the skillet and cook until the whites are set and the yolk is cooked to your desired doneness, about 4 minutes.\\n5. Toast the bread in a toaster or in a skillet over medium heat.\\n6. Place the bacon on one slice of toast.\\n7. Carefully place the eggs on top of the bacon.\\n8. Top with the other slice of toast.\\n9. Slice in half and serve.']"
            ]
          },
          "metadata": {},
          "execution_count": 15
        }
      ]
    },
    {
      "cell_type": "code",
      "source": [
        "def extract_title(recipe):\n",
        "  return re.findall('^.*Recipe Title: .*$',recipe,re.MULTILINE)[0].strip().split('Recipe Title: ')[-1]"
      ],
      "metadata": {
        "id": "pHhRyBgOzlsh"
      },
      "execution_count": null,
      "outputs": []
    },
    {
      "cell_type": "code",
      "source": [
        "extract_title(ans)"
      ],
      "metadata": {
        "colab": {
          "base_uri": "https://localhost:8080/",
          "height": 35
        },
        "id": "YBE7kmiGz03g",
        "outputId": "11aa7051-00a9-4c7d-c9a7-67818bb57b73"
      },
      "execution_count": null,
      "outputs": [
        {
          "output_type": "execute_result",
          "data": {
            "text/plain": [
              "'Bacon and Egg Sandwich'"
            ],
            "application/vnd.google.colaboratory.intrinsic+json": {
              "type": "string"
            }
          },
          "metadata": {},
          "execution_count": 25
        }
      ]
    },
    {
      "cell_type": "code",
      "source": [
        "img_response = openai.Image.create(\n",
        "    prompt = extract_title(ans),\n",
        "    n=1,\n",
        "    size = '1024x1024'\n",
        ")"
      ],
      "metadata": {
        "id": "xCB3ZS8Rz20Y"
      },
      "execution_count": null,
      "outputs": []
    },
    {
      "cell_type": "code",
      "source": [
        "img_url = img_response['data'][0]['url']"
      ],
      "metadata": {
        "id": "S3Svvsm51JNp"
      },
      "execution_count": null,
      "outputs": []
    },
    {
      "cell_type": "code",
      "source": [
        "import shutil"
      ],
      "metadata": {
        "id": "237Zsvn52QDz"
      },
      "execution_count": null,
      "outputs": []
    },
    {
      "cell_type": "code",
      "source": [
        "import requests\n",
        "def save_image(img_url,file_name):\n",
        "  img_res = requests.get(img_url, stream=True)\n",
        "  if img_res.status_code ==200:\n",
        "    with open(file_name , 'wb') as f:\n",
        "      shutil.copyfileobj(img_res.raw ,f)\n",
        "  else:\n",
        "      print('ERROR LOADING IMAGE')\n",
        "\n",
        "  return img_res.status_code\n"
      ],
      "metadata": {
        "id": "rrY5FIBv1MCz"
      },
      "execution_count": null,
      "outputs": []
    },
    {
      "cell_type": "code",
      "source": [
        "save_image(img_url , 'test_download.png' )"
      ],
      "metadata": {
        "colab": {
          "base_uri": "https://localhost:8080/"
        },
        "id": "Sygoc_bC1_l_",
        "outputId": "69cc41ad-7794-483f-8adf-c68a5dc55777"
      },
      "execution_count": null,
      "outputs": [
        {
          "output_type": "execute_result",
          "data": {
            "text/plain": [
              "200"
            ]
          },
          "metadata": {},
          "execution_count": 36
        }
      ]
    },
    {
      "cell_type": "code",
      "source": [
        "def dalle2_prompt(recipe_title):\n",
        "  prompt = f\"{recipe_title}, professional food photography, 15mm, studio lighting\"\n",
        "  return prompt"
      ],
      "metadata": {
        "id": "kvBIi8o92Jm-"
      },
      "execution_count": null,
      "outputs": []
    },
    {
      "cell_type": "code",
      "source": [
        "img_response_enhanced = openai.Image.create(\n",
        "    prompt = dalle2_prompt(ans),\n",
        "    n=1,\n",
        "    size = '1024x1024'\n",
        ")"
      ],
      "metadata": {
        "id": "vw41npq72_ig"
      },
      "execution_count": null,
      "outputs": []
    },
    {
      "cell_type": "code",
      "source": [
        "img_url_enhanced = img_response_enhanced['data'][0]['url']"
      ],
      "metadata": {
        "id": "dcPdl--i3Lso"
      },
      "execution_count": null,
      "outputs": []
    },
    {
      "cell_type": "code",
      "source": [
        "save_image(img_url_enhanced, 'enhanced_img.png')"
      ],
      "metadata": {
        "colab": {
          "base_uri": "https://localhost:8080/"
        },
        "id": "4KToHvz73NLW",
        "outputId": "edf91870-14e3-4819-b20e-bb7dd5962116"
      },
      "execution_count": null,
      "outputs": [
        {
          "output_type": "execute_result",
          "data": {
            "text/plain": [
              "200"
            ]
          },
          "metadata": {},
          "execution_count": 46
        }
      ]
    },
    {
      "cell_type": "code",
      "source": [],
      "metadata": {
        "id": "ZWouHnA-3Ttf"
      },
      "execution_count": null,
      "outputs": []
    }
  ]
}