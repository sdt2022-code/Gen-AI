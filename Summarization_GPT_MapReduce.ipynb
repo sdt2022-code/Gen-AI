{
  "nbformat": 4,
  "nbformat_minor": 0,
  "metadata": {
    "colab": {
      "provenance": []
    },
    "kernelspec": {
      "name": "python3",
      "display_name": "Python 3"
    },
    "language_info": {
      "name": "python"
    }
  },
  "cells": [
    {
      "cell_type": "code",
      "source": [
        "!pip install -r /content/drive/MyDrive/Environments/requirements.txt -q"
      ],
      "metadata": {
        "colab": {
          "base_uri": "https://localhost:8080/"
        },
        "id": "kebVDGe__jR9",
        "outputId": "9c21dbaa-9f4b-4b72-872d-b728183b878e"
      },
      "execution_count": null,
      "outputs": [
        {
          "output_type": "stream",
          "name": "stdout",
          "text": [
            "\u001b[2K     \u001b[90m━━━━━━━━━━━━━━━━━━━━━━━━━━━━━━━━━━━━━━━━\u001b[0m \u001b[32m225.4/225.4 kB\u001b[0m \u001b[31m3.8 MB/s\u001b[0m eta \u001b[36m0:00:00\u001b[0m\n",
            "\u001b[2K     \u001b[90m━━━━━━━━━━━━━━━━━━━━━━━━━━━━━━━━━━━━━━━━\u001b[0m \u001b[32m794.3/794.3 kB\u001b[0m \u001b[31m8.4 MB/s\u001b[0m eta \u001b[36m0:00:00\u001b[0m\n",
            "\u001b[2K     \u001b[90m━━━━━━━━━━━━━━━━━━━━━━━━━━━━━━━━━━━━━━━━\u001b[0m \u001b[32m179.4/179.4 kB\u001b[0m \u001b[31m8.0 MB/s\u001b[0m eta \u001b[36m0:00:00\u001b[0m\n",
            "\u001b[2K     \u001b[90m━━━━━━━━━━━━━━━━━━━━━━━━━━━━━━━━━━━━━━━━\u001b[0m \u001b[32m2.0/2.0 MB\u001b[0m \u001b[31m12.5 MB/s\u001b[0m eta \u001b[36m0:00:00\u001b[0m\n",
            "\u001b[2K     \u001b[90m━━━━━━━━━━━━━━━━━━━━━━━━━━━━━━━━━━━━━━━━\u001b[0m \u001b[32m75.0/75.0 kB\u001b[0m \u001b[31m9.4 MB/s\u001b[0m eta \u001b[36m0:00:00\u001b[0m\n",
            "\u001b[2K     \u001b[90m━━━━━━━━━━━━━━━━━━━━━━━━━━━━━━━━━━━━━━━━\u001b[0m \u001b[32m1.5/1.5 MB\u001b[0m \u001b[31m15.4 MB/s\u001b[0m eta \u001b[36m0:00:00\u001b[0m\n",
            "\u001b[2K     \u001b[90m━━━━━━━━━━━━━━━━━━━━━━━━━━━━━━━━━━━━━━━━\u001b[0m \u001b[32m190.6/190.6 kB\u001b[0m \u001b[31m20.2 MB/s\u001b[0m eta \u001b[36m0:00:00\u001b[0m\n",
            "\u001b[2K     \u001b[90m━━━━━━━━━━━━━━━━━━━━━━━━━━━━━━━━━━━━━━━━\u001b[0m \u001b[32m46.3/46.3 kB\u001b[0m \u001b[31m5.4 MB/s\u001b[0m eta \u001b[36m0:00:00\u001b[0m\n",
            "\u001b[2K     \u001b[90m━━━━━━━━━━━━━━━━━━━━━━━━━━━━━━━━━━━━━━━━\u001b[0m \u001b[32m62.5/62.5 kB\u001b[0m \u001b[31m8.3 MB/s\u001b[0m eta \u001b[36m0:00:00\u001b[0m\n",
            "\u001b[2K     \u001b[90m━━━━━━━━━━━━━━━━━━━━━━━━━━━━━━━━━━━━━━━━\u001b[0m \u001b[32m300.4/300.4 kB\u001b[0m \u001b[31m18.6 MB/s\u001b[0m eta \u001b[36m0:00:00\u001b[0m\n",
            "\u001b[2K     \u001b[90m━━━━━━━━━━━━━━━━━━━━━━━━━━━━━━━━━━━━━━━━\u001b[0m \u001b[32m49.4/49.4 kB\u001b[0m \u001b[31m6.2 MB/s\u001b[0m eta \u001b[36m0:00:00\u001b[0m\n",
            "\u001b[2K     \u001b[90m━━━━━━━━━━━━━━━━━━━━━━━━━━━━━━━━━━━━━━━━\u001b[0m \u001b[32m76.9/76.9 kB\u001b[0m \u001b[31m8.6 MB/s\u001b[0m eta \u001b[36m0:00:00\u001b[0m\n",
            "\u001b[2K     \u001b[90m━━━━━━━━━━━━━━━━━━━━━━━━━━━━━━━━━━━━━━━━\u001b[0m \u001b[32m58.3/58.3 kB\u001b[0m \u001b[31m5.4 MB/s\u001b[0m eta \u001b[36m0:00:00\u001b[0m\n",
            "\u001b[?25h\u001b[31mERROR: pip's dependency resolver does not currently take into account all the packages that are installed. This behaviour is the source of the following dependency conflicts.\n",
            "llmx 0.0.15a0 requires cohere, which is not installed.\n",
            "tensorflow-probability 0.22.0 requires typing-extensions<4.6.0, but you have typing-extensions 4.9.0 which is incompatible.\u001b[0m\u001b[31m\n",
            "\u001b[0m"
          ]
        }
      ]
    },
    {
      "cell_type": "code",
      "execution_count": null,
      "metadata": {
        "colab": {
          "base_uri": "https://localhost:8080/"
        },
        "id": "WGs0Lb_5_Unf",
        "outputId": "a6e652ed-97b8-459a-8e75-a77d350faba4"
      },
      "outputs": [
        {
          "output_type": "execute_result",
          "data": {
            "text/plain": [
              "True"
            ]
          },
          "metadata": {},
          "execution_count": 2
        }
      ],
      "source": [
        "import os\n",
        "from dotenv import load_dotenv , find_dotenv\n",
        "load_dotenv('/content/drive/MyDrive/Environments/.env' , override = True)\n"
      ]
    },
    {
      "cell_type": "markdown",
      "source": [
        "## Using basic prompt"
      ],
      "metadata": {
        "id": "DV_0yXaH_yhc"
      }
    },
    {
      "cell_type": "code",
      "source": [
        "from langchain.chat_models import ChatOpenAI\n",
        "from langchain.schema import (\n",
        "    AIMessage,\n",
        "    HumanMessage,\n",
        "    SystemMessage\n",
        ")\n",
        "import textwrap"
      ],
      "metadata": {
        "id": "0NpNKvYL_sM2"
      },
      "execution_count": null,
      "outputs": []
    },
    {
      "cell_type": "code",
      "source": [
        "text = ''' Pablo Ruiz Picasso[a][b] (25 October 1881 – 8 April 1973) was a Spanish painter, sculptor, printmaker, ceramicist, and theatre designer who spent most of his adult life in France. One of the most influential artists of the 20th century, he is known for co-founding the Cubist movement, the invention of constructed sculpture,[8][9] the co-invention of collage, and for the wide variety of styles that he helped develop and explore. Among his most famous works are the proto-Cubist\n",
        "Les Demoiselles d'Avignon (1907) and the anti-war painting Guernica (1937), a dramatic portrayal of the bombing of Guernica by German and Italian air forces during the Spanish Civil War.\n",
        "Picasso demonstrated extraordinary artistic talent in his early years, painting in a naturalistic manner through his childhood and adolescence. During the first decade of the 20th century, his style changed as he experimented with different theories, techniques, and ideas. After 1906, the Fauvist work of the older artist Henri Matisse motivated Picasso to explore more radical styles, beginning a fruitful rivalry between the two artists, who subsequently were often paired by critics as the leaders of modern art.\n",
        "Picasso's output, especially in his early career, is often periodized. While the names of many of his later periods are debated, the most commonly accepted periods in his work are the Blue Period (1901–1904), the Rose Period (1904–1906), the African-influenced Period (1907–1909), Analytic Cubism (1909–1912), and Synthetic Cubism (1912–1919), also referred to as the Crystal period. Much of Picasso's work of the late 1910s and early 1920s is in a neoclassical style, and his work in the mid-1920s often has characteristics of Surrealism.\n",
        "His later work often combines elements of his earlier styles.\n",
        "Exceptionally prolific throughout the course of his long life, Picasso achieved universal renown and immense fortune for his revolutionary artistic accomplishments, and became one of the best-known figures in 20th-century art.'''"
      ],
      "metadata": {
        "id": "9FsA_5yjAHep"
      },
      "execution_count": null,
      "outputs": []
    },
    {
      "cell_type": "code",
      "source": [
        "messages = [SystemMessage(content ='You are an expert copywriter, very skilled in summarizing documents' ),\n",
        "            HumanMessage(content = f'Please provide a short and concise summary of the following text: {text}')]\n",
        "\n",
        "\n",
        "llm = ChatOpenAI(model_name = 'gpt-3.5-turbo' , temperature = 0)"
      ],
      "metadata": {
        "id": "udI2we5BA54w"
      },
      "execution_count": null,
      "outputs": []
    },
    {
      "cell_type": "code",
      "source": [
        "llm.get_num_tokens(text)"
      ],
      "metadata": {
        "colab": {
          "base_uri": "https://localhost:8080/"
        },
        "id": "35NZJhF8Bgbs",
        "outputId": "01ede9f4-bdae-40a8-a5dc-87db235a750d"
      },
      "execution_count": null,
      "outputs": [
        {
          "output_type": "execute_result",
          "data": {
            "text/plain": [
              "457"
            ]
          },
          "metadata": {},
          "execution_count": 11
        }
      ]
    },
    {
      "cell_type": "code",
      "source": [
        "summary_output = llm(messages)\n",
        "print(\"\\n\".join(textwrap.wrap(summary_output.content, width=80))) #Note that any text and be chosen and summarized."
      ],
      "metadata": {
        "colab": {
          "base_uri": "https://localhost:8080/"
        },
        "id": "l8DpU8eGBnEx",
        "outputId": "fd1bc59f-2303-46d5-ff65-b50ae1a21dd2"
      },
      "execution_count": null,
      "outputs": [
        {
          "output_type": "stream",
          "name": "stdout",
          "text": [
            "Pablo Picasso was a Spanish artist who spent most of his life in France. He co-\n",
            "founded the Cubist movement and was known for his invention of constructed\n",
            "sculpture and collage. Picasso's most famous works include Les Demoiselles\n",
            "d'Avignon and Guernica. He experimented with different styles throughout his\n",
            "career, with notable periods including the Blue Period, Rose Period, and\n",
            "African-influenced Period. Picasso's work in the late 1910s and early 1920s had\n",
            "a neoclassical style, while his mid-1920s work showed characteristics of\n",
            "Surrealism. He achieved great fame and fortune for his revolutionary artistic\n",
            "accomplishments and is considered one of the most influential artists of the\n",
            "20th century.\n"
          ]
        }
      ]
    },
    {
      "cell_type": "markdown",
      "source": [
        "## Using prompt template"
      ],
      "metadata": {
        "id": "BmdMbYtPD-Cl"
      }
    },
    {
      "cell_type": "code",
      "source": [
        "from langchain import PromptTemplate\n",
        "from langchain.chains import LLMChain\n"
      ],
      "metadata": {
        "id": "xZXBh3HrBuCy"
      },
      "execution_count": null,
      "outputs": []
    },
    {
      "cell_type": "code",
      "source": [
        "template = ''' Write a concise and short summary of the following text:\n",
        "TEXT: {text}.\n",
        "Translate the summary to {language}'''\n",
        "\n",
        "prompt = PromptTemplate(input_variables = ['text' , 'language'], template = template)"
      ],
      "metadata": {
        "id": "Taxgp_SjEBRh"
      },
      "execution_count": null,
      "outputs": []
    },
    {
      "cell_type": "code",
      "source": [
        "llm.get_num_tokens(prompt.format(text=text , language = 'Spanish'))"
      ],
      "metadata": {
        "colab": {
          "base_uri": "https://localhost:8080/"
        },
        "id": "9egWJVk_EBPP",
        "outputId": "5ca32924-302d-44d0-d891-436f20c71994"
      },
      "execution_count": null,
      "outputs": [
        {
          "output_type": "execute_result",
          "data": {
            "text/plain": [
              "476"
            ]
          },
          "metadata": {},
          "execution_count": 17
        }
      ]
    },
    {
      "cell_type": "code",
      "source": [
        "chain = LLMChain(llm = llm , prompt = prompt)\n",
        "summary = chain.run({'text': text , 'language': 'Spanish'})\n",
        "\n",
        "print(\"\\n\".join(textwrap.wrap(summary, width=80)))"
      ],
      "metadata": {
        "colab": {
          "base_uri": "https://localhost:8080/"
        },
        "id": "n95D174PEBMj",
        "outputId": "fc30fe98-3327-4f23-82a8-58cfa1bca750"
      },
      "execution_count": null,
      "outputs": [
        {
          "output_type": "stream",
          "name": "stdout",
          "text": [
            "Pablo Picasso fue un pintor, escultor, grabador, ceramista y diseñador teatral\n",
            "español que pasó la mayor parte de su vida adulta en Francia. Fue uno de los\n",
            "artistas más influyentes del siglo XX, conocido por co-fundar el movimiento\n",
            "cubista, inventar la escultura construida, co-inventar el collage y desarrollar\n",
            "una amplia variedad de estilos. Sus obras más famosas incluyen \"Les Demoiselles\n",
            "d'Avignon\" y \"Guernica\". Picasso demostró un talento artístico extraordinario\n",
            "desde temprana edad y su estilo evolucionó a lo largo de su carrera. Fue\n",
            "reconocido mundialmente y se convirtió en una figura destacada del arte del\n",
            "siglo XX.\n"
          ]
        }
      ]
    },
    {
      "cell_type": "markdown",
      "source": [
        "## Summarizing using StuffDocumentChain"
      ],
      "metadata": {
        "id": "ZBbmAMUGFmB5"
      }
    },
    {
      "cell_type": "code",
      "source": [
        "#pros: make single call llm, and will have all information."
      ],
      "metadata": {
        "id": "VilkQQSyEBB1"
      },
      "execution_count": null,
      "outputs": []
    },
    {
      "cell_type": "code",
      "source": [
        "from langchain.chains.summarize import load_summarize_chain\n",
        "from langchain.docstore.document import Document\n"
      ],
      "metadata": {
        "id": "9Jhuu7yHF4qT"
      },
      "execution_count": null,
      "outputs": []
    },
    {
      "cell_type": "code",
      "source": [
        "with open('/content/Ipod Launch Part I.text' , encoding = 'utf-8') as f:\n",
        "  text = f.read()"
      ],
      "metadata": {
        "id": "XFwYf1xZGF6K"
      },
      "execution_count": null,
      "outputs": []
    },
    {
      "cell_type": "code",
      "source": [
        "text"
      ],
      "metadata": {
        "colab": {
          "base_uri": "https://localhost:8080/",
          "height": 244
        },
        "id": "PprtsLzsGvzp",
        "outputId": "85a39908-84d6-40f5-8835-3ed54bba97f1"
      },
      "execution_count": null,
      "outputs": [
        {
          "output_type": "execute_result",
          "data": {
            "text/plain": [
              "\"We're not done yet. Far from it. You know, when we introduced the iPhone in January. We said it was the best iPod ever and iPhone owners agree with us. It's incredible. With its multi-touch user interface, its incredible album artwork and video, it is the best iPod ever and people have been asking us and wondering, when are we going to bring this technology to an iPod? Well, the answer to that question is we're going to do it today and this is what the product looks like. It's called the iPod touch. I happen to have one right here. It's just about the same size screen as the iPhone. But it's even thinner. It's eight millimeters thin. It's unbelievable. The new iPod touch. We think. It's. One of the Seven Wonders of the world. It's just incredible. It features our revolutionary multi-touch interface. And you've come to know and love on the iPhone. So let's take a look at it. Let's take a look at its music capabilities. If you've used an iPhone, you'll feel very much at home. It's exactly the same five buttons across the bottom playlist, artists, songs, albums, and more. You can scroll through your artists as an example with a flick of your finger. Find one you like. Look at all of their albums, pick an album, pick a song and play it and look at gorgeous album artwork. You turn it into the landscape position you're in. Coverflow. You can flick through your entire music collection with your finger and look at it by album cover art. It's it's just magical. All on this eight millimeter thin device. Let's look at it for video again. You can look at your video. Movies, TV shows, podcasts. Pick something and watch it. The on screen controls. Tap to get them. Tap to get rid of them. And on this gorgeous three and one half inch wide screen display, video looks better than on any other portable device. Same as the iPhone. Gorgeous, gorgeous video and photos just like the iPhone. This is the best way to share photos on a portable device ever. You can flick through your photo library, find photos, and again, you can flick through them. You can pinch them to make them larger or smaller. When you get to a photo that's in landscape, you just rotate your iPhone and it'll display it in landscape aspect ratio, because there's an accelerometer inside that detects that and automatically does the right thing. So that's photos. So let me go ahead and show you the new iPod touch. Again. Slide to unlock. Here we are. And let's go into let's go into music. And again you can see the five buttons at the bottom playlists, songs, albums. I'm just going to stick with artists. And again you can just scroll like this with your finger. It's incredibly nice. And I'm going to go find let's find. Beck's a good one here. And pick an album here and, you know, pick one of his songs. And I just flip this around here, see all the songs on the album. Pick another one. Really great full on screen controls to change volume here. Go to the next song. I can just tap if I want to, shuffle, if I want to repeat songs, if I want to go to a different part of the song, just scrub like this real easy. Now I can go to Coverflow just by turning the iPod into landscape mode, and it automatically switches to Coverflow and I can browse all my albums by coverflow. It's pretty amazing. I love Bob Dylan. I can just pick a Dylan album and say Tangled Up in Blue. One morning the sun was shining. I was laying in bed. So those of you that are familiar with the iPhone are very familiar with this. But for the millions and millions that aren't yet, this is a revelation in how to enjoy your music. So let's go back and take a look at some video. Let me. I've got some movies and TV shows here and I've got some music videos and podcasts. I'm going to play Wild Hogs. Again. We play video and landscape. Toby, you're not going to push me around. Look, we agreed on a price, and that's a price I'm going to pay. You got it. And if you don't like it, just walk away and I'll tell you this. You can kiss your business goodbye. Because if you screw with Woody Stephens, you go down hard. You got that? What? No. Money is not a problem. Don't insult me. Don't insult me. Money's never a problem. You just have to honor the correct price. You got that? What? Well, then go home. Toby. You make me sick. I can't do this many lives for ten bucks. It'll. So you get the idea. And then let's take a look at photos here again. You know, just looking at photos, thumbing through them like this. It's great. And let's go into a photo album. Let's pick Becky's birthday and I can just go like this and, you know, just flick through these photos. Gets a landscape mode again, I just turn it. There's just never been a better way to share photos with friends on the go. It's so nice. You know, just turn it back. Boom. So. That is music, video and photos on the new iPod touch. It's pretty amazing. But there's more. When I showed you the side view of the iPod touch, I was keeping a secret. I showed you the clean side. Let me show you the other side. You see, there's something in that upper corner. It's an antenna because we've built in Wi-Fi to the new iPod touch and. 802, 11 B and G for really fast Wi-Fi. Now some others have done this and it's failed. And we took a long look at this and think we understand why it failed, and think we know what to do to make it successful where others have failed before us. So what's the problem with adding Wi-Fi? Well, part of the problem is just getting on Wi-Fi itself. When you're at home, you can get on your Wi-Fi network. You might have a password. You need to type a code in for your privacy. Get on the network. When you're in the office, you might have a protected network. There, you can type in a password and get on the network in the office. So you're you're fine at home. You're maybe fine in the office, but everywhere in between can be challenging. You go to any hotel and log in to their Wi-Fi network, even if it's free. They throw up a web page. Well, portable devices don't know how to deal with web pages very well. You go to an airport, you're going to see a web page, something like this, where you have to log in. Even if you're a member, you have to log in. The thing that really got me was even walking through Stanford University to use their Wi-Fi network. You're given a web page and you have to log in with that web page. If you can't do that, you can't get on most Wi-Fi networks outside of your home and office. And so you could build in the hardware, but you're not going to get the network. And so what are we going to do about that? Well, we're going to add an application to iPod touch. And the application we're going to add is the Safari web browser. So we're going to add it. We're going to build it right in to iPod touch. And so what you can do with it is view all those web pages, zoom in, log in to any Wi-Fi network, pretty much whether it's at the airport or a hotel or Stanford University or anywhere else. But besides that, you get an incredible web browser. As a matter of fact, the best web browser on any mobile platform. And so you can go to any website in the New York Times, in this case, flip to landscape and see it in landscape. Double click on something and zoom in and pan around with your finger. It is the best web browser on any mobile device, and it's built in to iPod touch. In addition to that, you get full Google and Yahoo search built in as well. So you can find anything on the go over that Wi-Fi network that you just logged into with your Safari web browser. So we're very, very excited about this Safari built into iPod touch. So we can actually use that Wi-Fi network. First time ever on a music player to have a browser like this built in.\""
            ],
            "application/vnd.google.colaboratory.intrinsic+json": {
              "type": "string"
            }
          },
          "metadata": {},
          "execution_count": 26
        }
      ]
    },
    {
      "cell_type": "code",
      "source": [
        "docs=[Document(page_content = text)]\n",
        "llm = ChatOpenAI(temperature = 0 , model_name = 'gpt-3.5-turbo')\n"
      ],
      "metadata": {
        "id": "Uq5Q_ji1GwsF"
      },
      "execution_count": null,
      "outputs": []
    },
    {
      "cell_type": "code",
      "source": [
        "template = '''Write a concise and short summary of the following text: {text}'''\n",
        "\n",
        "prompt = PromptTemplate(input_variables = ['text'],\n",
        "                        template = template)"
      ],
      "metadata": {
        "id": "dyZKmEqqG-vz"
      },
      "execution_count": null,
      "outputs": []
    },
    {
      "cell_type": "code",
      "source": [
        "chain = load_summarize_chain(llm, chain_type = 'stuff',\n",
        "                             prompt = prompt,\n",
        "                             verbose= False)\n",
        "\n",
        "output = chain.run(docs)"
      ],
      "metadata": {
        "id": "mHT7YT-EHTp7"
      },
      "execution_count": null,
      "outputs": []
    },
    {
      "cell_type": "code",
      "source": [
        "print(\"\\n\".join(textwrap.wrap(output, width=80)))"
      ],
      "metadata": {
        "colab": {
          "base_uri": "https://localhost:8080/"
        },
        "id": "GBe1O9g0HjI_",
        "outputId": "62f57b9d-6049-4c03-a928-1b98a2c78a07"
      },
      "execution_count": null,
      "outputs": [
        {
          "output_type": "stream",
          "name": "stdout",
          "text": [
            "The text discusses the introduction of the iPod touch, which is described as the\n",
            "best iPod ever. It highlights its features such as the multi-touch interface,\n",
            "music capabilities, video playback, and photo viewing. The text also mentions\n",
            "the addition of Wi-Fi and the Safari web browser to the iPod touch, allowing\n",
            "users to access the internet and browse websites. Overall, the iPod touch is\n",
            "presented as a revolutionary device that offers a superior user experience.\n"
          ]
        }
      ]
    },
    {
      "cell_type": "markdown",
      "source": [
        "## Summarizing Using MapReduce Framework"
      ],
      "metadata": {
        "id": "4w6poSxc8BXU"
      }
    },
    {
      "cell_type": "code",
      "source": [
        "from langchain.chains.summarize import load_summarize_chain\n",
        "from langchain.text_splitter import RecursiveCharacterTextSplitter"
      ],
      "metadata": {
        "id": "FPgBxvPRIJl8"
      },
      "execution_count": null,
      "outputs": []
    },
    {
      "cell_type": "code",
      "source": [
        "with open('/content/Mercedes S-class Launch.text' , encoding = 'utf-8') as f:\n",
        "  text = f.read()\n",
        "\n",
        "docs=[Document(page_content = text)]\n",
        "llm = ChatOpenAI(temperature = 0 , model_name = 'gpt-3.5-turbo')"
      ],
      "metadata": {
        "id": "O1sU7pCh8VLL"
      },
      "execution_count": null,
      "outputs": []
    },
    {
      "cell_type": "code",
      "source": [
        "llm.get_num_tokens(text)"
      ],
      "metadata": {
        "colab": {
          "base_uri": "https://localhost:8080/"
        },
        "id": "3P0gBVa38y_W",
        "outputId": "acaaab50-02d1-4f6b-b0ed-5c319bcbf3ac"
      },
      "execution_count": null,
      "outputs": [
        {
          "output_type": "execute_result",
          "data": {
            "text/plain": [
              "3352"
            ]
          },
          "metadata": {},
          "execution_count": 10
        }
      ]
    },
    {
      "cell_type": "code",
      "source": [
        "text_splitter = RecursiveCharacterTextSplitter(chunk_size = 10000 , chunk_overlap = 70)\n",
        "#Above are hyperparameters than we can tune.\n",
        "chunks = text_splitter.create_documents([text])"
      ],
      "metadata": {
        "id": "mlWz50wT85lC"
      },
      "execution_count": null,
      "outputs": []
    },
    {
      "cell_type": "code",
      "source": [
        "len(chunks)"
      ],
      "metadata": {
        "colab": {
          "base_uri": "https://localhost:8080/"
        },
        "id": "uUlY1RnX9Puh",
        "outputId": "609e7ee5-4ede-4561-ad88-e775b1bb0759"
      },
      "execution_count": null,
      "outputs": [
        {
          "output_type": "execute_result",
          "data": {
            "text/plain": [
              "2"
            ]
          },
          "metadata": {},
          "execution_count": 14
        }
      ]
    },
    {
      "cell_type": "code",
      "source": [
        "chain = load_summarize_chain(\n",
        "    llm,\n",
        "    chain_type = 'map_reduce',\n",
        "    verbose = False,\n",
        ")\n",
        "\n",
        "output_summary = chain.run(chunks)"
      ],
      "metadata": {
        "id": "L3MjWS9q9RlI"
      },
      "execution_count": null,
      "outputs": []
    },
    {
      "cell_type": "code",
      "source": [
        "print(\"\\n\".join(textwrap.wrap(output_summary, width=80)))"
      ],
      "metadata": {
        "colab": {
          "base_uri": "https://localhost:8080/"
        },
        "id": "e9vAKq9vLFmc",
        "outputId": "2f8a3843-09c6-42ee-8801-f3c54cc4203e"
      },
      "execution_count": null,
      "outputs": [
        {
          "output_type": "stream",
          "name": "stdout",
          "text": [
            "Mercedes-Benz has introduced the new S-Class, a luxury sedan that showcases\n",
            "advanced features and a sustainable production process. The car offers a\n",
            "comfortable and secure driving experience with personalized settings, massage\n",
            "programs, and digital services. Safety is a priority, with extensive testing and\n",
            "integrated safety features. The S-Class also introduces the latest driver\n",
            "assistance systems and plans for conditional automated driving. It offers\n",
            "improved maneuverability and stability with rear axle steering. The car provides\n",
            "a luxurious and technologically advanced experience, prioritizing comfort,\n",
            "connectivity, and safety for the driver and passengers.\n"
          ]
        }
      ]
    },
    {
      "cell_type": "code",
      "source": [
        "map_prompt= ''' Write a short and concise summary of the following:\n",
        "Text : {text}\n",
        "CONCISE SUMMARY '''\n",
        "\n",
        "map_prompt_template = PromptTemplate(\n",
        "    input_variables = ['text'],\n",
        "    template = map_prompt\n",
        ")"
      ],
      "metadata": {
        "id": "xfZccBudLH58"
      },
      "execution_count": null,
      "outputs": []
    },
    {
      "cell_type": "code",
      "source": [
        "combine_prompt_template = ''' Write a concise summary of the following text that covers the key points.\n",
        "Add a title to the summary.\n",
        "Start your summary with an INTRODUCTION PARAGRAPH that gives an overview of the topic FOLLOWED\n",
        "by BULLET POINTS if possible AND end the summary with a CONCLUSION PARAGRAPH.\n",
        "Text: {text}\n",
        "'''"
      ],
      "metadata": {
        "id": "QMpqZVr5L_3l"
      },
      "execution_count": null,
      "outputs": []
    },
    {
      "cell_type": "code",
      "source": [
        "combine_template = PromptTemplate(input_variables=['text'],\n",
        "                                  template = combine_prompt_template)"
      ],
      "metadata": {
        "id": "_Qjnt0pCMaGb"
      },
      "execution_count": null,
      "outputs": []
    },
    {
      "cell_type": "code",
      "source": [
        "summary_chain = load_summarize_chain(llm = llm,\n",
        "                                     chain_type = 'map_reduce',\n",
        "                                     map_prompt = map_prompt_template,\n",
        "                                     combine_prompt = combine_template,\n",
        "                                     verbose = False)\n",
        "output = summary_chain.run(chunks)"
      ],
      "metadata": {
        "id": "nel4ltl4Msq9"
      },
      "execution_count": null,
      "outputs": []
    },
    {
      "cell_type": "code",
      "source": [
        "print(\"\\n\".join(textwrap.wrap(output, width=80)))"
      ],
      "metadata": {
        "colab": {
          "base_uri": "https://localhost:8080/"
        },
        "id": "XVLg-1BPNDO-",
        "outputId": "fd008ccb-d9dc-4140-b317-5984bfbb9f41"
      },
      "execution_count": null,
      "outputs": [
        {
          "output_type": "stream",
          "name": "stdout",
          "text": [
            "Title: The New Mercedes-Benz S-Class: Luxury, Technology, and Safety\n",
            "Introduction: The text discusses the features and advancements of the new\n",
            "Mercedes-Benz S-Class, a luxury sedan that has set automotive standards for many\n",
            "years. It emphasizes the sustainable production, advanced technology, sleek\n",
            "design, and luxurious interior of the vehicle. The S-Class offers a smooth\n",
            "driving experience, holistic luxury features, and prioritizes safety with\n",
            "extensive testing.  Key Points: - Sustainable production and advanced technology\n",
            "- Sleek and elegant exterior design - Comfortable and luxurious interior -\n",
            "Smooth and controlled driving experience - Holistic luxury features - Emphasis\n",
            "on safety with extensive testing  Conclusion: The new Mercedes-Benz S-Class\n",
            "exceeds customer expectations by integrating efficiency, safety, and luxury. It\n",
            "introduces advanced technology, offers a comfortable and luxurious experience,\n",
            "and prioritizes safety with extensive testing. The S-Class sets a new standard\n",
            "for luxury sedans and provides a glimpse into the future of automotive\n",
            "innovation.\n"
          ]
        }
      ]
    },
    {
      "cell_type": "code",
      "source": [
        "print(output)"
      ],
      "metadata": {
        "colab": {
          "base_uri": "https://localhost:8080/"
        },
        "id": "hoQ064rBNTeT",
        "outputId": "50fe1f06-c294-4d32-dfbd-5d7f0e78d3c3"
      },
      "execution_count": null,
      "outputs": [
        {
          "output_type": "stream",
          "name": "stdout",
          "text": [
            "Title: The New Mercedes-Benz S-Class: Luxury, Technology, and Safety\n",
            "\n",
            "Introduction:\n",
            "The text discusses the features and advancements of the new Mercedes-Benz S-Class, a luxury sedan that has set automotive standards for many years. It emphasizes the sustainable production, advanced technology, sleek design, and luxurious interior of the vehicle. The S-Class offers a smooth driving experience, holistic luxury features, and prioritizes safety with extensive testing.\n",
            "\n",
            "Key Points:\n",
            "- Sustainable production and advanced technology\n",
            "- Sleek and elegant exterior design\n",
            "- Comfortable and luxurious interior\n",
            "- Smooth and controlled driving experience\n",
            "- Holistic luxury features\n",
            "- Emphasis on safety with extensive testing\n",
            "\n",
            "Conclusion:\n",
            "The new Mercedes-Benz S-Class exceeds customer expectations by integrating efficiency, safety, and luxury. It introduces advanced technology, offers a comfortable and luxurious experience, and prioritizes safety with extensive testing. The S-Class sets a new standard for luxury sedans and provides a glimpse into the future of automotive innovation.\n"
          ]
        }
      ]
    },
    {
      "cell_type": "code",
      "source": [],
      "metadata": {
        "id": "KOFIVDDCNWG2"
      },
      "execution_count": null,
      "outputs": []
    },
    {
      "cell_type": "markdown",
      "source": [
        "## Summarization using Refine\n",
        "\n",
        "Sequentially run, takes into account the previous summary generated."
      ],
      "metadata": {
        "id": "V10w95XaN0Uh"
      }
    },
    {
      "cell_type": "code",
      "source": [
        "!pip install unstructured"
      ],
      "metadata": {
        "id": "R6hyZYC9Oe_i"
      },
      "execution_count": null,
      "outputs": []
    },
    {
      "cell_type": "code",
      "source": [
        "!pip install pdf2image -q"
      ],
      "metadata": {
        "id": "lr8-RNMCOuza"
      },
      "execution_count": null,
      "outputs": []
    },
    {
      "cell_type": "code",
      "source": [
        "!pip install pdfminer -q"
      ],
      "metadata": {
        "id": "OFB1sybwO2jc"
      },
      "execution_count": null,
      "outputs": []
    },
    {
      "cell_type": "code",
      "source": [
        "from langchain.document_loaders import UnstructuredPDFLoader"
      ],
      "metadata": {
        "id": "1NcP8adlN25s"
      },
      "execution_count": null,
      "outputs": []
    },
    {
      "cell_type": "code",
      "source": [
        "loader = UnstructuredPDFLoader('/content/A_Human_Aware_Mobile_Robot_Motion_Planner.pdf')\n"
      ],
      "metadata": {
        "id": "qmWkQOqwOIeh"
      },
      "execution_count": null,
      "outputs": []
    },
    {
      "cell_type": "code",
      "source": [
        "data = loader.load()"
      ],
      "metadata": {
        "colab": {
          "base_uri": "https://localhost:8080/",
          "height": 478
        },
        "id": "WrECCZP1OdqP",
        "outputId": "73dadaaf-6967-4413-fb97-4be657648569"
      },
      "execution_count": null,
      "outputs": [
        {
          "output_type": "error",
          "ename": "ImportError",
          "evalue": "ignored",
          "traceback": [
            "\u001b[0;31m---------------------------------------------------------------------------\u001b[0m",
            "\u001b[0;31mImportError\u001b[0m                               Traceback (most recent call last)",
            "\u001b[0;32m<ipython-input-43-c440b526cd76>\u001b[0m in \u001b[0;36m<cell line: 1>\u001b[0;34m()\u001b[0m\n\u001b[0;32m----> 1\u001b[0;31m \u001b[0mdata\u001b[0m \u001b[0;34m=\u001b[0m \u001b[0mloader\u001b[0m\u001b[0;34m.\u001b[0m\u001b[0mload\u001b[0m\u001b[0;34m(\u001b[0m\u001b[0;34m)\u001b[0m\u001b[0;34m\u001b[0m\u001b[0;34m\u001b[0m\u001b[0m\n\u001b[0m",
            "\u001b[0;32m/usr/local/lib/python3.10/dist-packages/langchain_community/document_loaders/unstructured.py\u001b[0m in \u001b[0;36mload\u001b[0;34m(self)\u001b[0m\n\u001b[1;32m     85\u001b[0m     \u001b[0;32mdef\u001b[0m \u001b[0mload\u001b[0m\u001b[0;34m(\u001b[0m\u001b[0mself\u001b[0m\u001b[0;34m)\u001b[0m \u001b[0;34m->\u001b[0m \u001b[0mList\u001b[0m\u001b[0;34m[\u001b[0m\u001b[0mDocument\u001b[0m\u001b[0;34m]\u001b[0m\u001b[0;34m:\u001b[0m\u001b[0;34m\u001b[0m\u001b[0;34m\u001b[0m\u001b[0m\n\u001b[1;32m     86\u001b[0m         \u001b[0;34m\"\"\"Load file.\"\"\"\u001b[0m\u001b[0;34m\u001b[0m\u001b[0;34m\u001b[0m\u001b[0m\n\u001b[0;32m---> 87\u001b[0;31m         \u001b[0melements\u001b[0m \u001b[0;34m=\u001b[0m \u001b[0mself\u001b[0m\u001b[0;34m.\u001b[0m\u001b[0m_get_elements\u001b[0m\u001b[0;34m(\u001b[0m\u001b[0;34m)\u001b[0m\u001b[0;34m\u001b[0m\u001b[0;34m\u001b[0m\u001b[0m\n\u001b[0m\u001b[1;32m     88\u001b[0m         \u001b[0mself\u001b[0m\u001b[0;34m.\u001b[0m\u001b[0m_post_process_elements\u001b[0m\u001b[0;34m(\u001b[0m\u001b[0melements\u001b[0m\u001b[0;34m)\u001b[0m\u001b[0;34m\u001b[0m\u001b[0;34m\u001b[0m\u001b[0m\n\u001b[1;32m     89\u001b[0m         \u001b[0;32mif\u001b[0m \u001b[0mself\u001b[0m\u001b[0;34m.\u001b[0m\u001b[0mmode\u001b[0m \u001b[0;34m==\u001b[0m \u001b[0;34m\"elements\"\u001b[0m\u001b[0;34m:\u001b[0m\u001b[0;34m\u001b[0m\u001b[0;34m\u001b[0m\u001b[0m\n",
            "\u001b[0;32m/usr/local/lib/python3.10/dist-packages/langchain_community/document_loaders/pdf.py\u001b[0m in \u001b[0;36m_get_elements\u001b[0;34m(self)\u001b[0m\n\u001b[1;32m     55\u001b[0m \u001b[0;34m\u001b[0m\u001b[0m\n\u001b[1;32m     56\u001b[0m     \u001b[0;32mdef\u001b[0m \u001b[0m_get_elements\u001b[0m\u001b[0;34m(\u001b[0m\u001b[0mself\u001b[0m\u001b[0;34m)\u001b[0m \u001b[0;34m->\u001b[0m \u001b[0mList\u001b[0m\u001b[0;34m:\u001b[0m\u001b[0;34m\u001b[0m\u001b[0;34m\u001b[0m\u001b[0m\n\u001b[0;32m---> 57\u001b[0;31m         \u001b[0;32mfrom\u001b[0m \u001b[0munstructured\u001b[0m\u001b[0;34m.\u001b[0m\u001b[0mpartition\u001b[0m\u001b[0;34m.\u001b[0m\u001b[0mpdf\u001b[0m \u001b[0;32mimport\u001b[0m \u001b[0mpartition_pdf\u001b[0m\u001b[0;34m\u001b[0m\u001b[0;34m\u001b[0m\u001b[0m\n\u001b[0m\u001b[1;32m     58\u001b[0m \u001b[0;34m\u001b[0m\u001b[0m\n\u001b[1;32m     59\u001b[0m         \u001b[0;32mreturn\u001b[0m \u001b[0mpartition_pdf\u001b[0m\u001b[0;34m(\u001b[0m\u001b[0mfilename\u001b[0m\u001b[0;34m=\u001b[0m\u001b[0mself\u001b[0m\u001b[0;34m.\u001b[0m\u001b[0mfile_path\u001b[0m\u001b[0;34m,\u001b[0m \u001b[0;34m**\u001b[0m\u001b[0mself\u001b[0m\u001b[0;34m.\u001b[0m\u001b[0munstructured_kwargs\u001b[0m\u001b[0;34m)\u001b[0m\u001b[0;34m\u001b[0m\u001b[0;34m\u001b[0m\u001b[0m\n",
            "\u001b[0;32m/usr/local/lib/python3.10/dist-packages/unstructured/partition/pdf.py\u001b[0m in \u001b[0;36m<module>\u001b[0;34m\u001b[0m\n\u001b[1;32m     34\u001b[0m )\n\u001b[1;32m     35\u001b[0m \u001b[0;32mfrom\u001b[0m \u001b[0mpdfminer\u001b[0m\u001b[0;34m.\u001b[0m\u001b[0mpdftypes\u001b[0m \u001b[0;32mimport\u001b[0m \u001b[0mPDFObjRef\u001b[0m\u001b[0;34m\u001b[0m\u001b[0;34m\u001b[0m\u001b[0m\n\u001b[0;32m---> 36\u001b[0;31m \u001b[0;32mfrom\u001b[0m \u001b[0mpdfminer\u001b[0m\u001b[0;34m.\u001b[0m\u001b[0mutils\u001b[0m \u001b[0;32mimport\u001b[0m \u001b[0mopen_filename\u001b[0m\u001b[0;34m\u001b[0m\u001b[0;34m\u001b[0m\u001b[0m\n\u001b[0m\u001b[1;32m     37\u001b[0m \u001b[0;32mfrom\u001b[0m \u001b[0mPIL\u001b[0m \u001b[0;32mimport\u001b[0m \u001b[0mImage\u001b[0m \u001b[0;32mas\u001b[0m \u001b[0mPILImage\u001b[0m\u001b[0;34m\u001b[0m\u001b[0;34m\u001b[0m\u001b[0m\n\u001b[1;32m     38\u001b[0m \u001b[0;34m\u001b[0m\u001b[0m\n",
            "\u001b[0;31mImportError\u001b[0m: cannot import name 'open_filename' from 'pdfminer.utils' (/usr/local/lib/python3.10/dist-packages/pdfminer/utils.py)",
            "",
            "\u001b[0;31m---------------------------------------------------------------------------\u001b[0;32m\nNOTE: If your import is failing due to a missing package, you can\nmanually install dependencies using either !pip or !apt.\n\nTo view examples of installing some common dependencies, click the\n\"Open Examples\" button below.\n\u001b[0;31m---------------------------------------------------------------------------\u001b[0m\n"
          ],
          "errorDetails": {
            "actions": [
              {
                "action": "open_url",
                "actionText": "Open Examples",
                "url": "/notebooks/snippets/importing_libraries.ipynb"
              }
            ]
          }
        }
      ]
    },
    {
      "cell_type": "code",
      "source": [
        "text_splitter = RecursiveCharacterTextSplitter(chunk_size = 10000 , chunk_overlap = 1000)\n",
        "llm = ChatOpenAI(temperature = 0, model_name = 'gpt-3.5-turbo')"
      ],
      "metadata": {
        "id": "xRtd3yXzPRBZ"
      },
      "execution_count": null,
      "outputs": []
    },
    {
      "cell_type": "code",
      "source": [
        "chain = load_summarize_chain(\n",
        "    llm=llm,\n",
        "    chain_type = 'refine',\n",
        "    verbose=False'\n",
        "\n",
        ")\n",
        "\n",
        "output_summary2 = chain.run(chunks)"
      ],
      "metadata": {
        "id": "1IoDLPH1P_5d"
      },
      "execution_count": null,
      "outputs": []
    },
    {
      "cell_type": "code",
      "source": [
        "print(output_summary2)"
      ],
      "metadata": {
        "id": "jRfOHc-yQNer"
      },
      "execution_count": null,
      "outputs": []
    },
    {
      "cell_type": "code",
      "source": [
        "#Refine with custom prompts.\n",
        "\n",
        "\n"
      ],
      "metadata": {
        "id": "HYAfJnUcQeFo"
      },
      "execution_count": null,
      "outputs": []
    },
    {
      "cell_type": "code",
      "source": [
        "from langchain.agents import initialize_agent, Tool\n",
        "from langchain.utilities import WikipediaAPIWrapper"
      ],
      "metadata": {
        "id": "E04K1I6DRPdO"
      },
      "execution_count": null,
      "outputs": []
    },
    {
      "cell_type": "code",
      "source": [
        "!pip install wikipedia -q"
      ],
      "metadata": {
        "colab": {
          "base_uri": "https://localhost:8080/"
        },
        "id": "FCdAsQp-R_sY",
        "outputId": "88349321-8cd3-4563-a7a5-f02363b4c7f1"
      },
      "execution_count": null,
      "outputs": [
        {
          "output_type": "stream",
          "name": "stdout",
          "text": [
            "  Preparing metadata (setup.py) ... \u001b[?25l\u001b[?25hdone\n",
            "  Building wheel for wikipedia (setup.py) ... \u001b[?25l\u001b[?25hdone\n"
          ]
        }
      ]
    },
    {
      "cell_type": "code",
      "source": [
        "wikipedia = WikipediaAPIWrapper()\n",
        "tools = [\n",
        "    Tool(\n",
        "        name ='Wikipedia',\n",
        "        func = wikipedia.run,\n",
        "        description = 'Useful when you need to get information from wikipedia about the topic'\n",
        "    )\n",
        "]"
      ],
      "metadata": {
        "id": "S2fg8Yn6RZqh"
      },
      "execution_count": null,
      "outputs": []
    },
    {
      "cell_type": "code",
      "source": [
        "agent_executor = initialize_agent(tools , llm, agent = 'zero-shot-react-description' , verbose=True)"
      ],
      "metadata": {
        "id": "-dCbzHvfRwvY"
      },
      "execution_count": null,
      "outputs": []
    },
    {
      "cell_type": "code",
      "source": [
        "output = agent_executor.run('Can you please provide a short summary of George Washington')"
      ],
      "metadata": {
        "colab": {
          "base_uri": "https://localhost:8080/"
        },
        "id": "rDvy_BIYSMj8",
        "outputId": "78272ba8-7995-481d-93bd-41f200a210b8"
      },
      "execution_count": null,
      "outputs": [
        {
          "output_type": "stream",
          "name": "stdout",
          "text": [
            "\n",
            "\n",
            "\u001b[1m> Entering new AgentExecutor chain...\u001b[0m\n",
            "\u001b[32;1m\u001b[1;3mI should use Wikipedia to find a short summary of George Washington.\n",
            "Action: Wikipedia\n",
            "Action Input: George Washington\u001b[0m\n",
            "Observation: \u001b[36;1m\u001b[1;3mPage: George Washington\n",
            "Summary: George Washington (February 22, 1732 – December 14, 1799) was an American Founding Father, military officer, and statesman who served as the first president of the United States from 1789 to 1797. Appointed by the Second Continental Congress as commander of the Continental Army in June 1775, Washington led Patriot forces to victory in the American Revolutionary War and then served as president of the Constitutional Convention in 1787, which drafted and ratified the Constitution of the United States and established the American federal government. Washington has thus been called the \"Father of his Country\".\n",
            "Washington's first public office, from 1749 to 1750, was as surveyor of Culpeper County in the Colony of Virginia. He subsequently received military training and was assigned command of the Virginia Regiment during the French and Indian War. He was later elected to the Virginia House of Burgesses and was named a delegate to the Continental Congress in Philadelphia, which appointed him Commander-in-Chief of the Continental Army. Washington led American forces to a decisive victory over the British in the Revolutionary War, leading the British to sign the Treaty of Paris, which acknowledged the sovereignty and independence of the United States. He resigned his commission in 1783 after the conclusion of the Revolutionary War.\n",
            "Washington played an indispensable role in adopting and ratifying the Constitution, which replaced the Articles of Confederation in 1789. He was then twice elected president by the Electoral College unanimously. As the first U.S. president, Washington implemented a strong, well-financed national government while remaining impartial in a fierce rivalry that emerged between cabinet members Thomas Jefferson and Alexander Hamilton. During the French Revolution, he proclaimed a policy of neutrality while additionally sanctioning the Jay Treaty. He set enduring precedents for the office of president, including republicanism, a peaceful transfer of power, the use of the title \"Mr. President\", and the two-term tradition. His 1796 farewell address became a preeminent statement on republicanism in which he wrote about the importance of national unity and the dangers that regionalism, partisanship, and foreign influence pose to it. Washington's image is an icon of American culture. He has been memorialized by monuments, a federal holiday, various media depictions, geographical locations including the national capital, the State of Washington, stamps, and currency. In 1976, Washington was posthumously promoted to the rank of General of the Armies, the highest rank in the U.S. Army. \n",
            "Washington consistently ranks in both popular and scholarly polls as one of the greatest presidents in American history.\n",
            "\n",
            "Page: George Washington Carver\n",
            "Summary: George Washington Carver (c. 1864 – January 5, 1943) was an American agricultural scientist and inventor who promoted alternative crops to cotton and methods to prevent soil depletion. He was one of the most prominent black scientists of the early 20th century.\n",
            "While a professor at Tuskegee Institute, Carver developed techniques to improve types of soils depleted by repeated plantings of cotton. He wanted poor farmers to grow other crops, such as peanuts and sweet potatoes, as a source of their own food and to improve their quality of life. The most popular of his 44 practical bulletins for farmers contained 105 food recipes using peanuts. Although he spent years developing and promoting numerous products made from peanuts, none became commercially successful.Apart from his work to improve the lives of farmers, Carver was also a leader in promoting environmentalism. He received numerous honors for his work, including the Spingarn Medal of the NAACP. In an era of high racial polarization, his fame reached beyond the black community. He was widely recognized and praised in the white community for his many achievements and talents. In 1941, Time magaz\u001b[0m\n",
            "Thought:\u001b[32;1m\u001b[1;3mI now know the final answer\n",
            "Final Answer: George Washington was an American Founding Father, military officer, and statesman who served as the first president of the United States from 1789 to 1797. He played a crucial role in the American Revolutionary War and was instrumental in drafting and ratifying the Constitution of the United States. He is often referred to as the \"Father of his Country\" and is considered one of the greatest presidents in American history.\u001b[0m\n",
            "\n",
            "\u001b[1m> Finished chain.\u001b[0m\n"
          ]
        }
      ]
    },
    {
      "cell_type": "code",
      "source": [
        "print(\"\\n\".join(textwrap.wrap(output, width=80)))"
      ],
      "metadata": {
        "colab": {
          "base_uri": "https://localhost:8080/"
        },
        "id": "ncOp1Y1xSWU0",
        "outputId": "05f8c10f-a216-4620-dba7-3a6240f01236"
      },
      "execution_count": null,
      "outputs": [
        {
          "output_type": "stream",
          "name": "stdout",
          "text": [
            "George Washington was an American Founding Father, military officer, and\n",
            "statesman who served as the first president of the United States from 1789 to\n",
            "1797. He played a crucial role in the American Revolutionary War and was\n",
            "instrumental in drafting and ratifying the Constitution of the United States. He\n",
            "is often referred to as the \"Father of his Country\" and is considered one of the\n",
            "greatest presidents in American history.\n"
          ]
        }
      ]
    },
    {
      "cell_type": "code",
      "source": [],
      "metadata": {
        "id": "UKTvPaeUSZ6v"
      },
      "execution_count": null,
      "outputs": []
    }
  ]
}