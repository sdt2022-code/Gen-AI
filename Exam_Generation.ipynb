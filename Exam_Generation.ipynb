{
  "nbformat": 4,
  "nbformat_minor": 0,
  "metadata": {
    "colab": {
      "provenance": []
    },
    "kernelspec": {
      "name": "python3",
      "display_name": "Python 3"
    },
    "language_info": {
      "name": "python"
    }
  },
  "cells": [
    {
      "cell_type": "code",
      "execution_count": null,
      "metadata": {
        "id": "tS7nSYMX3I7e"
      },
      "outputs": [],
      "source": [
        "!pip install -r /content/drive/MyDrive/Environments/requirements.txt -q"
      ]
    },
    {
      "cell_type": "code",
      "source": [
        "!pip install openai==0.28"
      ],
      "metadata": {
        "colab": {
          "base_uri": "https://localhost:8080/"
        },
        "id": "PrGer9p-8fVK",
        "outputId": "c1b9af3d-5abb-44e1-8a4f-0261440a9334"
      },
      "execution_count": null,
      "outputs": [
        {
          "output_type": "stream",
          "name": "stdout",
          "text": [
            "Requirement already satisfied: openai==0.28 in /usr/local/lib/python3.10/dist-packages (0.28.0)\n",
            "Requirement already satisfied: requests>=2.20 in /usr/local/lib/python3.10/dist-packages (from openai==0.28) (2.31.0)\n",
            "Requirement already satisfied: tqdm in /usr/local/lib/python3.10/dist-packages (from openai==0.28) (4.66.1)\n",
            "Requirement already satisfied: aiohttp in /usr/local/lib/python3.10/dist-packages (from openai==0.28) (3.9.1)\n",
            "Requirement already satisfied: charset-normalizer<4,>=2 in /usr/local/lib/python3.10/dist-packages (from requests>=2.20->openai==0.28) (3.3.2)\n",
            "Requirement already satisfied: idna<4,>=2.5 in /usr/local/lib/python3.10/dist-packages (from requests>=2.20->openai==0.28) (3.6)\n",
            "Requirement already satisfied: urllib3<3,>=1.21.1 in /usr/local/lib/python3.10/dist-packages (from requests>=2.20->openai==0.28) (2.0.7)\n",
            "Requirement already satisfied: certifi>=2017.4.17 in /usr/local/lib/python3.10/dist-packages (from requests>=2.20->openai==0.28) (2023.11.17)\n",
            "Requirement already satisfied: attrs>=17.3.0 in /usr/local/lib/python3.10/dist-packages (from aiohttp->openai==0.28) (23.1.0)\n",
            "Requirement already satisfied: multidict<7.0,>=4.5 in /usr/local/lib/python3.10/dist-packages (from aiohttp->openai==0.28) (6.0.4)\n",
            "Requirement already satisfied: yarl<2.0,>=1.0 in /usr/local/lib/python3.10/dist-packages (from aiohttp->openai==0.28) (1.9.4)\n",
            "Requirement already satisfied: frozenlist>=1.1.1 in /usr/local/lib/python3.10/dist-packages (from aiohttp->openai==0.28) (1.4.1)\n",
            "Requirement already satisfied: aiosignal>=1.1.2 in /usr/local/lib/python3.10/dist-packages (from aiohttp->openai==0.28) (1.3.1)\n",
            "Requirement already satisfied: async-timeout<5.0,>=4.0 in /usr/local/lib/python3.10/dist-packages (from aiohttp->openai==0.28) (4.0.3)\n"
          ]
        }
      ]
    },
    {
      "cell_type": "code",
      "source": [
        "import os\n",
        "import openai\n",
        "import pandas as pd\n",
        "from dotenv import load_dotenv , find_dotenv\n",
        "load_dotenv('/content/drive/MyDrive/Environments/.env' , override = True)"
      ],
      "metadata": {
        "colab": {
          "base_uri": "https://localhost:8080/"
        },
        "id": "2Pgp1Mbr5rkD",
        "outputId": "778412d8-ef4f-4011-dc67-ff9709498371"
      },
      "execution_count": null,
      "outputs": [
        {
          "output_type": "execute_result",
          "data": {
            "text/plain": [
              "True"
            ]
          },
          "metadata": {},
          "execution_count": 3
        }
      ]
    },
    {
      "cell_type": "code",
      "source": [
        "prompt = '''Give me details about the technology startup called mimi and pimo. Only answer if you are\n",
        "100% sure, otherwise specify \"i dont know\" ''' #method to reduce hallucination"
      ],
      "metadata": {
        "id": "ekufPEly5-mW"
      },
      "execution_count": null,
      "outputs": []
    },
    {
      "cell_type": "code",
      "source": [
        "def create_test_prompt(topic , num_questions, num_possible_answers):\n",
        "  prompt = f\"Create a multiple choice quiz on the topic of {topic} consisting of {num_questions} questions.\"\\\n",
        "  +f\" Each question should have {num_possible_answers} options. \"\\\n",
        "  +f\"Also include the correct answer for each question suing the string 'Correct Answer: \"\n",
        "  return prompt"
      ],
      "metadata": {
        "id": "yD2L5A2s6HJo"
      },
      "execution_count": null,
      "outputs": []
    },
    {
      "cell_type": "code",
      "source": [
        "create_test_prompt(\"Python\", 4,4)"
      ],
      "metadata": {
        "colab": {
          "base_uri": "https://localhost:8080/",
          "height": 70
        },
        "id": "-_t4dsOz7s8Y",
        "outputId": "e7627a8f-35db-4cb0-f51b-d9a504bc1368"
      },
      "execution_count": null,
      "outputs": [
        {
          "output_type": "execute_result",
          "data": {
            "text/plain": [
              "\"Create a multiple choice quiz on the topic of Python consisting of 4 questions. Each question should have 4 options. Also include the correct answer for each question suing the string 'Correct Answer: \""
            ],
            "application/vnd.google.colaboratory.intrinsic+json": {
              "type": "string"
            }
          },
          "metadata": {},
          "execution_count": 6
        }
      ]
    },
    {
      "cell_type": "code",
      "source": [
        "openai.api_key = os.getenv('OPENAI_API_KEY')"
      ],
      "metadata": {
        "id": "uUmARe848-tR"
      },
      "execution_count": null,
      "outputs": []
    },
    {
      "cell_type": "code",
      "source": [
        "response = openai.Completion.create( engine = 'text-davinci-003' ,\n",
        "                                    prompt = create_test_prompt('US History',4,4),\n",
        "                                     max_tokens = 512,\n",
        "                                     temperature = 0.2)"
      ],
      "metadata": {
        "id": "GhRZzdN97whp"
      },
      "execution_count": null,
      "outputs": []
    },
    {
      "cell_type": "code",
      "source": [
        "print(response['choices'][0]['text'])"
      ],
      "metadata": {
        "colab": {
          "base_uri": "https://localhost:8080/"
        },
        "id": "UwxplFTG8WEY",
        "outputId": "e206594d-b592-4bb3-a785-75f51276515e"
      },
      "execution_count": null,
      "outputs": [
        {
          "output_type": "stream",
          "name": "stdout",
          "text": [
            "\n",
            "\n",
            "Q1. What year did the United States gain independence from Great Britain?\n",
            "A. 1776\n",
            "B. 1775\n",
            "C. 1778\n",
            "D. 1779\n",
            "Correct Answer: A. 1776\n",
            "\n",
            "Q2. Who was the first president of the United States?\n",
            "A. George Washington\n",
            "B. Thomas Jefferson\n",
            "C. John Adams\n",
            "D. James Madison\n",
            "Correct Answer: A. George Washington\n",
            "\n",
            "Q3. What event triggered the American Revolution?\n",
            "A. The Boston Tea Party\n",
            "B. The Battle of Bunker Hill\n",
            "C. The Declaration of Independence\n",
            "D. The Battle of Yorktown\n",
            "Correct Answer: A. The Boston Tea Party\n",
            "\n",
            "Q4. What amendment to the US Constitution abolished slavery?\n",
            "A. 13th Amendment\n",
            "B. 14th Amendment\n",
            "C. 15th Amendment\n",
            "D. 16th Amendment\n",
            "Correct Answer: A. 13th Amendment\n"
          ]
        }
      ]
    },
    {
      "cell_type": "code",
      "source": [
        "def create_student_view(test , num_questions):\n",
        "  student_view = {1:''}\n",
        "  question_number = 1\n",
        "  for line in test.split('\\n'):\n",
        "    if not line.startswith('Correct Answer: '):\n",
        "      student_view[question_number] += line+'\\n'\n",
        "    else:\n",
        "      if question_number < num_questions:\n",
        "        question_number +=1\n",
        "        student_view[question_number] = ''\n",
        "\n",
        "  return student_view\n"
      ],
      "metadata": {
        "id": "_rrJ9w8f9W-S"
      },
      "execution_count": null,
      "outputs": []
    },
    {
      "cell_type": "code",
      "source": [
        "result = create_student_view(response['choices'][0]['text'] , 4)"
      ],
      "metadata": {
        "id": "aQR5rukF-2ZL"
      },
      "execution_count": null,
      "outputs": []
    },
    {
      "cell_type": "code",
      "source": [
        "for key in result:\n",
        "  print(result[key])"
      ],
      "metadata": {
        "colab": {
          "base_uri": "https://localhost:8080/"
        },
        "id": "Wf4jsSxA_BCn",
        "outputId": "807fefcf-830a-4820-b447-765995eb6f48"
      },
      "execution_count": null,
      "outputs": [
        {
          "output_type": "stream",
          "name": "stdout",
          "text": [
            "\n",
            "\n",
            "Q1. What year did the United States gain independence from Great Britain?\n",
            "A. 1776\n",
            "B. 1775\n",
            "C. 1778\n",
            "D. 1779\n",
            "\n",
            "\n",
            "Q2. Who was the first president of the United States?\n",
            "A. George Washington\n",
            "B. Thomas Jefferson\n",
            "C. John Adams\n",
            "D. James Madison\n",
            "\n",
            "\n",
            "Q3. What event triggered the American Revolution?\n",
            "A. The Boston Tea Party\n",
            "B. The Battle of Bunker Hill\n",
            "C. The Declaration of Independence\n",
            "D. The Battle of Yorktown\n",
            "\n",
            "\n",
            "Q4. What amendment to the US Constitution abolished slavery?\n",
            "A. 13th Amendment\n",
            "B. 14th Amendment\n",
            "C. 15th Amendment\n",
            "D. 16th Amendment\n",
            "\n"
          ]
        }
      ]
    },
    {
      "cell_type": "code",
      "source": [
        "def extract_answer(test , num_questions):\n",
        "  answers = {1:''}\n",
        "  question_number = 1\n",
        "  for line in test.split('\\n'):\n",
        "    if line.startswith('Correct Answer: '):\n",
        "      answers[question_number] += line+'\\n'\n",
        "      if question_number < num_questions:\n",
        "        question_number +=1\n",
        "        answers[question_number] = ''\n",
        "\n",
        "  return answers\n"
      ],
      "metadata": {
        "id": "aIL0S298_e9P"
      },
      "execution_count": null,
      "outputs": []
    },
    {
      "cell_type": "code",
      "source": [
        "answers = extract_answer(response['choices'][0]['text'] , 4)"
      ],
      "metadata": {
        "id": "v-_y7lff_vU8"
      },
      "execution_count": null,
      "outputs": []
    },
    {
      "cell_type": "code",
      "source": [
        "def take(student_view):\n",
        "  student_answers = {}\n",
        "  for question, question_view in student_view.items():\n",
        "    print(question_view)\n",
        "    answer = input(\"Enter your answer: \")\n",
        "    student_answers[question] = answer\n",
        "  return student_answers"
      ],
      "metadata": {
        "id": "8KCCupfcAFwM"
      },
      "execution_count": null,
      "outputs": []
    },
    {
      "cell_type": "code",
      "source": [
        "student_ans = take(result)"
      ],
      "metadata": {
        "colab": {
          "base_uri": "https://localhost:8080/"
        },
        "id": "M2M75WeEGfZg",
        "outputId": "6ecf932a-b5ec-437a-fc99-8e2740c618a5"
      },
      "execution_count": null,
      "outputs": [
        {
          "name": "stdout",
          "output_type": "stream",
          "text": [
            "\n",
            "\n",
            "Q1. What year did the United States gain independence from Great Britain?\n",
            "A. 1776\n",
            "B. 1775\n",
            "C. 1778\n",
            "D. 1779\n",
            "\n",
            "Enter your answer: A\n",
            "\n",
            "Q2. Who was the first president of the United States?\n",
            "A. George Washington\n",
            "B. Thomas Jefferson\n",
            "C. John Adams\n",
            "D. James Madison\n",
            "\n",
            "Enter your answer: B\n",
            "\n",
            "Q3. What event triggered the American Revolution?\n",
            "A. The Boston Tea Party\n",
            "B. The Battle of Bunker Hill\n",
            "C. The Declaration of Independence\n",
            "D. The Battle of Yorktown\n",
            "\n",
            "Enter your answer: C\n",
            "\n",
            "Q4. What amendment to the US Constitution abolished slavery?\n",
            "A. 13th Amendment\n",
            "B. 14th Amendment\n",
            "C. 15th Amendment\n",
            "D. 16th Amendment\n",
            "\n",
            "Enter your answer: A\n"
          ]
        }
      ]
    },
    {
      "cell_type": "code",
      "source": [
        "student_ans"
      ],
      "metadata": {
        "colab": {
          "base_uri": "https://localhost:8080/"
        },
        "id": "9NWPGbXtGwyc",
        "outputId": "cdec2447-30ef-4e83-b48c-5dcf048d59a5"
      },
      "execution_count": null,
      "outputs": [
        {
          "output_type": "execute_result",
          "data": {
            "text/plain": [
              "{1: 'A', 2: 'B', 3: 'C', 4: 'A'}"
            ]
          },
          "metadata": {},
          "execution_count": 31
        }
      ]
    },
    {
      "cell_type": "code",
      "source": [
        "def grade(correct_ans_dict , student_answers):\n",
        "  correct_answers = 0\n",
        "  for question, answer in student_answers.items():\n",
        "    if answer.upper()== correct_ans_dict[question][16]:\n",
        "        correct_answers= correct_answers + 1\n",
        "\n",
        "  grade = 100*correct_answers / len(answers)\n",
        "\n",
        "  if grade <60:\n",
        "    passed = \"DID NOT PASS\"\n",
        "  else:\n",
        "    passed = 'CONGRATULATIONS YOU PASSED!'\n",
        "\n",
        "\n",
        "  return f\"{correct_answers}/{len(answers)} , correct! You got {grade} grade, {passed}\""
      ],
      "metadata": {
        "id": "yMK7XixyG9Ep"
      },
      "execution_count": null,
      "outputs": []
    },
    {
      "cell_type": "code",
      "source": [
        "grade(answers , student_ans)"
      ],
      "metadata": {
        "colab": {
          "base_uri": "https://localhost:8080/",
          "height": 35
        },
        "id": "tr949PrtIVc4",
        "outputId": "713065b6-3755-4577-fb59-72c307cc646c"
      },
      "execution_count": null,
      "outputs": [
        {
          "output_type": "execute_result",
          "data": {
            "text/plain": [
              "'2/4 , correct! You got 50.0 grade, DID NOT PASS'"
            ],
            "application/vnd.google.colaboratory.intrinsic+json": {
              "type": "string"
            }
          },
          "metadata": {},
          "execution_count": 40
        }
      ]
    },
    {
      "cell_type": "code",
      "source": [],
      "metadata": {
        "id": "Kz8GBjksIb05"
      },
      "execution_count": null,
      "outputs": []
    }
  ]
}