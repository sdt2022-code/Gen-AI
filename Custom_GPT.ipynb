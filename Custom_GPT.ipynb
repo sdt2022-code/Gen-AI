{
  "nbformat": 4,
  "nbformat_minor": 0,
  "metadata": {
    "colab": {
      "provenance": []
    },
    "kernelspec": {
      "name": "python3",
      "display_name": "Python 3"
    },
    "language_info": {
      "name": "python"
    }
  },
  "cells": [
    {
      "cell_type": "code",
      "source": [
        "!pip install cohere -q"
      ],
      "metadata": {
        "colab": {
          "base_uri": "https://localhost:8080/"
        },
        "id": "BHoddpkgt3Hf",
        "outputId": "c81b1cd7-5a26-4505-ea4c-96811103d3a0"
      },
      "execution_count": null,
      "outputs": [
        {
          "output_type": "stream",
          "name": "stdout",
          "text": [
            "\u001b[2K     \u001b[90m━━━━━━━━━━━━━━━━━━━━━━━━━━━━━━━━━━━━━━━━\u001b[0m \u001b[32m51.7/51.7 kB\u001b[0m \u001b[31m2.2 MB/s\u001b[0m eta \u001b[36m0:00:00\u001b[0m\n",
            "\u001b[2K     \u001b[90m━━━━━━━━━━━━━━━━━━━━━━━━━━━━━━━━━━━━━━━━\u001b[0m \u001b[32m3.1/3.1 MB\u001b[0m \u001b[31m42.4 MB/s\u001b[0m eta \u001b[36m0:00:00\u001b[0m\n",
            "\u001b[?25h"
          ]
        }
      ]
    },
    {
      "cell_type": "code",
      "source": [
        "!pip install -r /content/requirements.txt -q"
      ],
      "metadata": {
        "id": "FrtilBDKpyaY"
      },
      "execution_count": null,
      "outputs": []
    },
    {
      "cell_type": "code",
      "source": [
        "!pip install langchain -q"
      ],
      "metadata": {
        "id": "nwd4HphsqZo_"
      },
      "execution_count": null,
      "outputs": []
    },
    {
      "cell_type": "code",
      "execution_count": null,
      "metadata": {
        "colab": {
          "base_uri": "https://localhost:8080/"
        },
        "id": "QR1Vv4QHpb90",
        "outputId": "1c0ff4f5-f310-42e5-f379-0c1032a7761f"
      },
      "outputs": [
        {
          "output_type": "execute_result",
          "data": {
            "text/plain": [
              "True"
            ]
          },
          "metadata": {},
          "execution_count": 6
        }
      ],
      "source": [
        "from dotenv import load_dotenv, find_dotenv\n",
        "load_dotenv('/content/drive/MyDrive/Environments/.env' , override = True )"
      ]
    },
    {
      "cell_type": "code",
      "source": [
        "from langchain.chat_models import ChatOpenAI\n",
        "from langchain.schema import SystemMessage\n",
        "from langchain.chains import LLMChain\n",
        "from langchain.prompts import ChatPromptTemplate, HumanMessagePromptTemplate, MessagesPlaceholder\n"
      ],
      "metadata": {
        "id": "JE_JnDGMWe1q"
      },
      "execution_count": null,
      "outputs": []
    },
    {
      "cell_type": "code",
      "source": [
        "llm = ChatOpenAI(model_name = 'gpt-3.5-turbo', temperature = 1)\n",
        "prompt = ChatPromptTemplate(\n",
        "    input_variables = [\"content\"],\n",
        "    messages = [\n",
        "        SystemMessage(content = 'You are a chatbot having a conversation wiht a human.'),\n",
        "        HumanMessagePromptTemplate.from_template('{content}')\n",
        "    ]\n",
        ")\n",
        "\n",
        "chain = LLMChain(\n",
        "    llm=llm,\n",
        "    prompt = prompt,\n",
        "    verbose=False\n",
        ")\n",
        "\n",
        "\n",
        "#how to keep the conversation going\n",
        "while True:\n",
        "  content = input('Your prompt:')\n",
        "  if content in ['quit','exit','bye']:\n",
        "    print('Goodbye!')\n",
        "    break\n",
        "  response = chain.run({'content':content})\n",
        "  print(response)\n",
        "  print('-'*20)"
      ],
      "metadata": {
        "id": "1CdwEAVVpxEq",
        "colab": {
          "base_uri": "https://localhost:8080/"
        },
        "outputId": "cd0dfecd-75e8-42bc-c35a-808df4f34056"
      },
      "execution_count": null,
      "outputs": [
        {
          "output_type": "stream",
          "name": "stdout",
          "text": [
            "Your prompt:What is the capital of france?\n",
            "The capital of France is Paris.\n",
            "--------------------\n",
            "Your prompt:Paris is...\n",
            "Paris is the capital city of France and is known for its rich history, stunning architecture, romantic atmosphere, and cultural significance. It is home to iconic landmarks such as the Eiffel Tower, Louvre Museum, and Notre-Dame Cathedral. Paris is renowned for its art, fashion, and cuisine, making it a popular tourist destination.\n",
            "--------------------\n",
            "Your prompt:tell me about its history\n",
            "The concept of chatbots goes back several decades. The first chatbot, named ELIZA, was developed by Joseph Weizenbaum in the 1960s at the Massachusetts Institute of Technology (MIT). ELIZA aimed to simulate human-like conversation by using pattern-matching techniques to respond to text inputs.\n",
            "\n",
            "In the 1990s, chatbots found their way onto the internet with the rise of online instant messaging and virtual chat rooms. These early chatbots were often simple and rule-based, programmed to follow a specific set of predefined responses.\n",
            "\n",
            "The development of natural language processing (NLP) and machine learning in the early 2000s opened up new possibilities for chatbots. AI algorithms allowed chatbots to understand and respond to human language in a more sophisticated manner. This led to the creation of more intelligent and interactive chatbots.\n",
            "\n",
            "With the proliferation of social media platforms and messaging apps, chatbots became increasingly popular for businesses and customer service. Many companies started using chatbots to automate responses to frequently asked questions and provide 24/7 support to their customers.\n",
            "\n",
            "In recent years, advancements in artificial intelligence and natural language understanding have enabled the creation of even more advanced chatbots. These chatbots can understand and generate human-like dialogue, making conversations with them more seamless and indistinguishable from talking to a real person.\n",
            "\n",
            "Today, chatbots are widely used in various industries, including customer service, e-commerce, healthcare, and entertainment. They have become an important tool for businesses to engage with their customers and provide personalized experiences. With continuous technological advancements, the potential for chatbots in the future seems promising, and they are likely to become even more sophisticated and integrated into our daily lives.\n",
            "--------------------\n",
            "Your prompt:quit\n",
            "Goodbye!\n"
          ]
        }
      ]
    },
    {
      "cell_type": "code",
      "source": [
        "#note how our application has no memory and thereofre no context in its answer\n",
        "# create an instance of the memory and incorporate it in the chain\n",
        "\n",
        "\n",
        "from langchain.memory import ConversationBufferMemory\n",
        "memory = ConversationBufferMemory(\n",
        "    memory_key = 'chat_history',\n",
        "    return_messages=True #return the chat history\n",
        ")\n",
        "\n",
        "\n",
        "prompt = ChatPromptTemplate(\n",
        "    input_variables = [\"content\"],\n",
        "    messages = [\n",
        "        SystemMessage(content = 'You are a chatbot having a conversation wiht a human.'),\n",
        "        MessagesPlaceholder(variable_name='chat_history'), # where the memory will be stored\n",
        "        HumanMessagePromptTemplate.from_template('{content}')\n",
        "    ]\n",
        ")\n",
        "\n",
        "chain = LLMChain(\n",
        "    llm=llm,\n",
        "    prompt = prompt,\n",
        "    memory=memory,\n",
        "    verbose=True,\n",
        ")\n",
        "\n",
        "while True:\n",
        "  content = input('Your prompt:')\n",
        "  if content in ['quit','exit','bye']:\n",
        "    print('Goodbye!')\n",
        "    break\n",
        "  response = chain.run({'content':content})\n",
        "  print(response)\n",
        "  print('-'*20)\n"
      ],
      "metadata": {
        "colab": {
          "base_uri": "https://localhost:8080/"
        },
        "id": "NN0czWN9tEtX",
        "outputId": "ccafe7c7-2fa2-4dbf-c078-fe2e6f5a2e51"
      },
      "execution_count": null,
      "outputs": [
        {
          "output_type": "stream",
          "name": "stdout",
          "text": [
            "Your prompt:Madrid is...\n",
            "the capital city of Spain. It is known for its rich history, stunning architecture, vibrant culture, and high-quality cuisine. Madrid is home to world-renowned museums such as the Prado Museum and the Reina Sofia Museum, as well as beautiful landmarks like the Royal Palace and the Puerta del Sol. The city has a lively nightlife scene with numerous bars, clubs, and restaurants. Additionally, Madrid is a major hub for business, fashion, and sports, hosting famous football teams like Real Madrid and Atletico Madrid.\n",
            "--------------------\n",
            "Your prompt:Madrid is ...\n",
            "a bustling metropolis with a unique blend of modernity and tradition. It is often referred to as the financial and commercial center of Spain, attracting people from all over the world. Madrid is famous for its beautiful architecture, including the iconic Gran Via and the Puerta de Alcalá. The city offers a wide range of cultural experiences, from visiting world-class art galleries to enjoying the vibrant local music and dance scene. Madrid is also known for its delicious food, with a wide variety of tapas bars, restaurants, and markets serving both traditional Spanish dishes and international cuisine. Overall, Madrid is a vibrant and dynamic city that has something to offer for everyone.\n",
            "--------------------\n",
            "Your prompt:tell me about its history\n",
            "Madrid's history dates back to the medieval times when it was originally a tiny Moorish fortress. However, it wasn't until the 16th century that the city began to gain significance. In 1561, King Philip II made Madrid the capital of Spain, which accelerated its growth and development.\n",
            "\n",
            "Throughout the centuries, Madrid experienced periods of prosperity and turmoil. During the Spanish Golden Age in the 17th century, the city became a hub of artistic and cultural activity, attracting renowned artists and writers. However, the city also witnessed various conflicts, including the War of Spanish Succession and the Napoleonic occupation.\n",
            "\n",
            "In the 19th and 20th centuries, Madrid saw significant urban expansion and modernization. It became a center of political activity, culminating in the Spanish Civil War from 1936 to 1939. During the Franco dictatorship that followed, Madrid faced repression and cultural restrictions.\n",
            "\n",
            "After Francisco Franco's death in 1975, Madrid experienced a resurgence of democracy, leading to a period of rapid growth and modernization. The city became a vibrant cosmopolitan hub, hosting international events like the 1982 FIFA World Cup and the 1992 Olympic Games.\n",
            "\n",
            "Today, Madrid stands as a thriving capital city with a rich historical legacy. Its historical landmarks, museums, and cultural sites attract millions of visitors every year, offering a glimpse into its storied past.\n",
            "--------------------\n",
            "Your prompt:what questions did i ask you so far?\n",
            "So far, you have asked me two questions:\n",
            "\n",
            "1. \"Madrid is...\" (presumably asking for a general description of Madrid)\n",
            "2. \"Tell me about its history\" (asking for information about the history of Madrid)\n",
            "--------------------\n",
            "Your prompt:bye\n",
            "Goodbye!\n"
          ]
        }
      ]
    },
    {
      "cell_type": "code",
      "source": [
        "# Saving chat sessions\n",
        "\n",
        "from langchain.memory import FileChatMessageHistory"
      ],
      "metadata": {
        "id": "lg_b-7TkxbLp"
      },
      "execution_count": null,
      "outputs": []
    },
    {
      "cell_type": "code",
      "source": [
        "history = FileChatMessageHistory('chat_history.json')\n",
        "memory = ConversationBufferMemory(\n",
        "    memory_key = 'chat_history',\n",
        "    chat_memory = history,\n",
        "    return_messages=True #return the chat history\n",
        ")\n",
        "\n",
        "\n",
        "prompt = ChatPromptTemplate(\n",
        "    input_variables = [\"content\"],\n",
        "    messages = [\n",
        "        SystemMessage(content = 'You are a chatbot having a conversation wiht a human.'),\n",
        "        MessagesPlaceholder(variable_name='chat_history'), # where the memory will be stored\n",
        "        HumanMessagePromptTemplate.from_template('{content}')\n",
        "    ]\n",
        ")\n",
        "\n",
        "chain = LLMChain(\n",
        "    llm=llm,\n",
        "    prompt = prompt,\n",
        "    memory=memory,\n",
        "    verbose=True,\n",
        ")\n",
        "\n",
        "while True:\n",
        "  content = input('Your prompt:')\n",
        "  if content in ['quit','exit','bye']:\n",
        "    print('Goodbye!')\n",
        "    break\n",
        "  response = chain.run({'content':content})\n",
        "  print(response)\n",
        "  print('-'*20)"
      ],
      "metadata": {
        "colab": {
          "base_uri": "https://localhost:8080/"
        },
        "id": "v9nET2f1yY9o",
        "outputId": "a96f9d9b-a053-4008-a221-a6fbc3b1a0c6"
      },
      "execution_count": null,
      "outputs": [
        {
          "output_type": "stream",
          "name": "stdout",
          "text": [
            "Your prompt:how long does it take to travel from the sun to earth?\n",
            "\n",
            "\n",
            "\u001b[1m> Entering new LLMChain chain...\u001b[0m\n",
            "Prompt after formatting:\n",
            "\u001b[32;1m\u001b[1;3mSystem: You are a chatbot having a conversation wiht a human.\n",
            "Human: distance of sound in water?\n",
            "AI: The speed of sound in water is approximately 1,482 meters per second (or about 5,108 feet per second). The distance that sound can travel in water depends on various factors, such as temperature, pressure, and salinity. On average, sound can travel for thousands of kilometers in the ocean before it gradually diminishes.\n",
            "Human: what about in air?\n",
            "AI: The speed of sound in air varies based on several factors, including temperature, humidity, and elevation. However, at room temperature and standard atmospheric conditions, sound travels at approximately 343 meters per second (or 1,125 feet per second) in dry air. This means that sound can travel approximately 1 kilometer (or about 0.62 miles) in a little over 3 seconds in normal atmospheric conditions.\n",
            "Human: how long does it take to travel from the sun to earth?\u001b[0m\n",
            "\n",
            "\u001b[1m> Finished chain.\u001b[0m\n",
            "The average distance from the Sun to Earth is about 93 million miles (150 million kilometers). The time it takes for light, and thus for sunlight, to travel from the Sun to Earth is roughly 8 minutes and 20 seconds. Therefore, sunlight takes around 8 minutes and 20 seconds to reach us here on Earth.\n",
            "--------------------\n",
            "Your prompt:what questions did i ask you?\n",
            "\n",
            "\n",
            "\u001b[1m> Entering new LLMChain chain...\u001b[0m\n",
            "Prompt after formatting:\n",
            "\u001b[32;1m\u001b[1;3mSystem: You are a chatbot having a conversation wiht a human.\n",
            "Human: distance of sound in water?\n",
            "AI: The speed of sound in water is approximately 1,482 meters per second (or about 5,108 feet per second). The distance that sound can travel in water depends on various factors, such as temperature, pressure, and salinity. On average, sound can travel for thousands of kilometers in the ocean before it gradually diminishes.\n",
            "Human: what about in air?\n",
            "AI: The speed of sound in air varies based on several factors, including temperature, humidity, and elevation. However, at room temperature and standard atmospheric conditions, sound travels at approximately 343 meters per second (or 1,125 feet per second) in dry air. This means that sound can travel approximately 1 kilometer (or about 0.62 miles) in a little over 3 seconds in normal atmospheric conditions.\n",
            "Human: how long does it take to travel from the sun to earth?\n",
            "AI: The average distance from the Sun to Earth is about 93 million miles (150 million kilometers). The time it takes for light, and thus for sunlight, to travel from the Sun to Earth is roughly 8 minutes and 20 seconds. Therefore, sunlight takes around 8 minutes and 20 seconds to reach us here on Earth.\n",
            "Human: what questions did i ask you?\u001b[0m\n",
            "\n",
            "\u001b[1m> Finished chain.\u001b[0m\n",
            "You asked me about the distance of sound in water, the distance of sound in air, and the time it takes for sunlight to travel from the Sun to Earth.\n",
            "--------------------\n",
            "Your prompt:quit\n",
            "Goodbye!\n"
          ]
        }
      ]
    },
    {
      "cell_type": "code",
      "source": [],
      "metadata": {
        "id": "VeN_sDqaymSR"
      },
      "execution_count": null,
      "outputs": []
    }
  ]
}